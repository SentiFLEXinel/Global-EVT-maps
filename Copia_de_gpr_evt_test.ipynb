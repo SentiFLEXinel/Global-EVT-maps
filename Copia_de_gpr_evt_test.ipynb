{
  "nbformat": 4,
  "nbformat_minor": 0,
  "metadata": {
    "colab": {
      "provenance": [],
      "authorship_tag": "ABX9TyPpEbChfwSzGSa316o6BBfY",
      "include_colab_link": true
    },
    "kernelspec": {
      "name": "python3",
      "display_name": "Python 3"
    },
    "language_info": {
      "name": "python"
    }
  },
  "cells": [
    {
      "cell_type": "markdown",
      "metadata": {
        "id": "view-in-github",
        "colab_type": "text"
      },
      "source": [
        "<a href=\"https://colab.research.google.com/github/daviddkovacs/Global-EVT-maps/blob/main/Copia_de_gpr_evt_test.ipynb\" target=\"_parent\"><img src=\"https://colab.research.google.com/assets/colab-badge.svg\" alt=\"Open In Colab\"/></a>"
      ]
    },
    {
      "cell_type": "code",
      "execution_count": null,
      "metadata": {
        "colab": {
          "base_uri": "https://localhost:8080/"
        },
        "id": "RH86562D-iiE",
        "outputId": "26c34d82-6bb1-43b2-d0ed-8cdbd2484159"
      },
      "outputs": [
        {
          "output_type": "stream",
          "name": "stdout",
          "text": [
            "gpr test\n"
          ]
        }
      ],
      "source": [
        "print(\"gpr test\")\n",
        "\"xxx\"\n",
        "\n",
        "\n",
        "\"xxxx\""
      ]
    }
  ]
}